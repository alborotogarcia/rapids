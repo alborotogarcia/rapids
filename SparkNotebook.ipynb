{
 "cells": [
  {
   "cell_type": "code",
   "execution_count": 1,
   "id": "46225b89-0492-4751-aaef-3d323bf49485",
   "metadata": {},
   "outputs": [
    {
     "data": {
      "text/plain": [
       "\u001b[32mimport \u001b[39m\u001b[36m$ivy.$                                   // Or use any other 2.x version here\n",
       "\u001b[39m\n",
       "\u001b[32mimport \u001b[39m\u001b[36m$ivy.$                                // Not required since almond 0.7.0 (will be automatically added when importing spark)\n",
       "\u001b[39m"
      ]
     },
     "execution_count": 1,
     "metadata": {},
     "output_type": "execute_result"
    }
   ],
   "source": [
    "// https://sparkbyexamples.com/spark/different-ways-to-create-a-spark-dataframe/\n",
    "\n",
    "import $ivy.`org.apache.spark::spark-sql:3.3.0` // Or use any other 2.x version here\n",
    "import $ivy.`sh.almond::almond-spark:0.13.1` // Not required since almond 0.7.0 (will be automatically added when importing spark)\n"
   ]
  },
  {
   "cell_type": "code",
   "execution_count": 2,
   "id": "6058ebc2-ca1c-4966-b3f5-b677d92d2b71",
   "metadata": {},
   "outputs": [
    {
     "name": "stderr",
     "output_type": "stream",
     "text": [
      "Using Spark's default log4j profile: org/apache/spark/log4j2-defaults.properties\n"
     ]
    },
    {
     "name": "stdout",
     "output_type": "stream",
     "text": [
      "22/10/16 16:34:50 INFO SparkContext: Running Spark version 3.3.0\n",
      "22/10/16 16:34:51 WARN NativeCodeLoader: Unable to load native-hadoop library for your platform... using builtin-java classes where applicable\n",
      "22/10/16 16:34:51 INFO ResourceUtils: ==============================================================\n",
      "22/10/16 16:34:51 INFO ResourceUtils: No custom resources configured for spark.driver.\n",
      "22/10/16 16:34:51 INFO ResourceUtils: ==============================================================\n",
      "22/10/16 16:34:51 INFO SparkContext: Submitted application: 45aa08d1-020d-4122-a792-489c81cc1547\n",
      "22/10/16 16:34:51 INFO ResourceProfile: Default ResourceProfile created, executor resources: Map(cores -> name: cores, amount: 1, script: , vendor: , memory -> name: memory, amount: 1024, script: , vendor: , offHeap -> name: offHeap, amount: 0, script: , vendor: ), task resources: Map(cpus -> name: cpus, amount: 1.0)\n",
      "22/10/16 16:34:51 INFO ResourceProfile: Limiting resource is cpu\n",
      "22/10/16 16:34:51 INFO ResourceProfileManager: Added ResourceProfile id: 0\n",
      "22/10/16 16:34:51 INFO SecurityManager: Changing view acls to: root\n",
      "22/10/16 16:34:51 INFO SecurityManager: Changing modify acls to: root\n",
      "22/10/16 16:34:51 INFO SecurityManager: Changing view acls groups to: \n",
      "22/10/16 16:34:51 INFO SecurityManager: Changing modify acls groups to: \n",
      "22/10/16 16:34:51 INFO SecurityManager: SecurityManager: authentication disabled; ui acls disabled; users  with view permissions: Set(root); groups with view permissions: Set(); users  with modify permissions: Set(root); groups with modify permissions: Set()\n",
      "22/10/16 16:34:51 INFO Utils: Successfully started service 'sparkDriver' on port 45749.\n",
      "22/10/16 16:34:51 INFO SparkEnv: Registering MapOutputTracker\n",
      "22/10/16 16:34:51 INFO SparkEnv: Registering BlockManagerMaster\n",
      "22/10/16 16:34:51 INFO BlockManagerMasterEndpoint: Using org.apache.spark.storage.DefaultTopologyMapper for getting topology information\n",
      "22/10/16 16:34:51 INFO BlockManagerMasterEndpoint: BlockManagerMasterEndpoint up\n",
      "22/10/16 16:34:51 INFO SparkEnv: Registering BlockManagerMasterHeartbeat\n",
      "22/10/16 16:34:51 INFO DiskBlockManager: Created local directory at /tmp/blockmgr-07db053b-f7c4-49e4-9ae9-96808cf24bef\n",
      "22/10/16 16:34:51 INFO MemoryStore: MemoryStore started with capacity 4.0 GiB\n",
      "22/10/16 16:34:51 INFO SparkEnv: Registering OutputCommitCoordinator\n",
      "22/10/16 16:34:51 INFO Utils: Successfully started service 'SparkUI' on port 4040.\n",
      "22/10/16 16:34:51 INFO Executor: Starting executor ID driver on host stealth\n",
      "22/10/16 16:34:51 INFO Executor: Starting executor with user classpath (userClassPathFirst = false): ''\n",
      "22/10/16 16:34:51 INFO Utils: Successfully started service 'org.apache.spark.network.netty.NettyBlockTransferService' on port 45817.\n",
      "22/10/16 16:34:51 INFO NettyBlockTransferService: Server created on stealth:45817\n",
      "22/10/16 16:34:51 INFO BlockManager: Using org.apache.spark.storage.RandomBlockReplicationPolicy for block replication policy\n",
      "22/10/16 16:34:51 INFO BlockManagerMaster: Registering BlockManager BlockManagerId(driver, stealth, 45817, None)\n",
      "22/10/16 16:34:51 INFO BlockManagerMasterEndpoint: Registering block manager stealth:45817 with 4.0 GiB RAM, BlockManagerId(driver, stealth, 45817, None)\n",
      "22/10/16 16:34:51 INFO BlockManagerMaster: Registered BlockManager BlockManagerId(driver, stealth, 45817, None)\n",
      "22/10/16 16:34:51 INFO BlockManager: Initialized BlockManager: BlockManagerId(driver, stealth, 45817, None)\n"
     ]
    },
    {
     "data": {
      "text/plain": [
       "\u001b[36mspark\u001b[39m: \u001b[32morg\u001b[39m.\u001b[32mapache\u001b[39m.\u001b[32mspark\u001b[39m.\u001b[32msql\u001b[39m.\u001b[32mSparkSession\u001b[39m = org.apache.spark.sql.SparkSession@6eb479de"
      ]
     },
     "execution_count": 2,
     "metadata": {},
     "output_type": "execute_result"
    }
   ],
   "source": [
    "val spark = {\n",
    "  org.apache.spark.sql.SparkSession.builder()\n",
    "    .master(\"local[*]\")\n",
    "    .getOrCreate()\n",
    "}\n"
   ]
  },
  {
   "cell_type": "code",
   "execution_count": 3,
   "id": "1b5a9cf8-a54d-47e4-ac27-e671f451f504",
   "metadata": {},
   "outputs": [
    {
     "name": "stdout",
     "output_type": "stream",
     "text": [
      "22/10/16 16:37:07 INFO SharedState: Setting hive.metastore.warehouse.dir ('null') to the value of spark.sql.warehouse.dir.\n",
      "22/10/16 16:37:07 INFO SharedState: Warehouse path is 'file:/rapids/notebooks/spark-warehouse'.\n"
     ]
    },
    {
     "data": {
      "text/html": [
       "<div class=\"jp-RenderedText\">\n",
       "<pre><code><span style=\"color: rgb(0, 187, 0)\"><span class=\"ansi-green-fg\">import </span></span><span style=\"color: rgb(0, 187, 187)\"><span class=\"ansi-cyan-fg\">spark.implicits._\n",
       "\n",
       "</span></span>\n",
       "<span style=\"color: rgb(0, 187, 0)\"><span class=\"ansi-green-fg\">import </span></span><span style=\"color: rgb(0, 187, 187)\"><span class=\"ansi-cyan-fg\">org.apache.spark.sql.types.{StringType, StructField, StructType}\n",
       "</span></span>\n",
       "<span style=\"color: rgb(0, 187, 0)\"><span class=\"ansi-green-fg\">import </span></span><span style=\"color: rgb(0, 187, 187)\"><span class=\"ansi-cyan-fg\">org.apache.spark.sql.Row\n",
       "</span></span>\n",
       "<span style=\"color: rgb(0, 187, 0)\"><span class=\"ansi-green-fg\">import </span></span><span style=\"color: rgb(0, 187, 187)\"><span class=\"ansi-cyan-fg\">scala.collection.JavaConversions._\n",
       "</span></span>\n",
       "<span style=\"color: rgb(0, 187, 187)\"><span class=\"ansi-cyan-fg\">schema</span></span>: <span style=\"color: rgb(0, 187, 0)\"><span class=\"ansi-green-fg\">StructType</span></span> = <span style=\"color: yellow\"><span class=\"ansi-yellow-fg\">StructType</span></span>(\n",
       "  <span style=\"color: yellow\"><span class=\"ansi-yellow-fg\">StructField</span></span>(<span style=\"color: rgb(0, 187, 0)\"><span class=\"ansi-green-fg\">&quot;language&quot;</span></span>, StringType, <span style=\"color: rgb(0, 187, 0)\"><span class=\"ansi-green-fg\">true</span></span>, {}),\n",
       "  <span style=\"color: yellow\"><span class=\"ansi-yellow-fg\">StructField</span></span>(<span style=\"color: rgb(0, 187, 0)\"><span class=\"ansi-green-fg\">&quot;users&quot;</span></span>, StringType, <span style=\"color: rgb(0, 187, 0)\"><span class=\"ansi-green-fg\">true</span></span>, {})\n",
       ")\n",
       "<span style=\"color: rgb(0, 187, 187)\"><span class=\"ansi-cyan-fg\">rowData</span></span>: <span style=\"color: rgb(0, 187, 0)\"><span class=\"ansi-green-fg\">Seq</span></span>[<span style=\"color: rgb(0, 187, 0)\"><span class=\"ansi-green-fg\">Row</span></span>] = <span style=\"color: yellow\"><span class=\"ansi-yellow-fg\">List</span></span>([Java,20000], [Python,100000], [Scala,3000])\n",
       "<span style=\"color: rgb(0, 187, 187)\"><span class=\"ansi-cyan-fg\">dfFromData3</span></span>: <span style=\"color: rgb(0, 187, 0)\"><span class=\"ansi-green-fg\">org</span></span>.<span style=\"color: rgb(0, 187, 0)\"><span class=\"ansi-green-fg\">apache</span></span>.<span style=\"color: rgb(0, 187, 0)\"><span class=\"ansi-green-fg\">spark</span></span>.<span style=\"color: rgb(0, 187, 0)\"><span class=\"ansi-green-fg\">sql</span></span>.<span style=\"color: rgb(0, 187, 0)\"><span class=\"ansi-green-fg\">package</span></span>.<span style=\"color: rgb(0, 187, 0)\"><span class=\"ansi-green-fg\">DataFrame</span></span> = [language: string, users: string]</code></pre>\n",
       "</div>"
      ],
      "text/plain": [
       "\u001b[32mimport \u001b[39m\u001b[36mspark.implicits._\n",
       "\n",
       "\u001b[39m\n",
       "\u001b[32mimport \u001b[39m\u001b[36morg.apache.spark.sql.types.{StringType, StructField, StructType}\n",
       "\u001b[39m\n",
       "\u001b[32mimport \u001b[39m\u001b[36morg.apache.spark.sql.Row\n",
       "\u001b[39m\n",
       "\u001b[32mimport \u001b[39m\u001b[36mscala.collection.JavaConversions._\n",
       "\u001b[39m\n",
       "\u001b[36mschema\u001b[39m: \u001b[32mStructType\u001b[39m = \u001b[33mStructType\u001b[39m(\n",
       "  \u001b[33mStructField\u001b[39m(\u001b[32m\"language\"\u001b[39m, StringType, \u001b[32mtrue\u001b[39m, {}),\n",
       "  \u001b[33mStructField\u001b[39m(\u001b[32m\"users\"\u001b[39m, StringType, \u001b[32mtrue\u001b[39m, {})\n",
       ")\n",
       "\u001b[36mrowData\u001b[39m: \u001b[32mSeq\u001b[39m[\u001b[32mRow\u001b[39m] = \u001b[33mList\u001b[39m([Java,20000], [Python,100000], [Scala,3000])\n",
       "\u001b[36mdfFromData3\u001b[39m: \u001b[32morg\u001b[39m.\u001b[32mapache\u001b[39m.\u001b[32mspark\u001b[39m.\u001b[32msql\u001b[39m.\u001b[32mpackage\u001b[39m.\u001b[32mDataFrame\u001b[39m = [language: string, users: string]"
      ]
     },
     "metadata": {},
     "output_type": "display_data"
    }
   ],
   "source": [
    "import spark.implicits._\n",
    "\n",
    "import org.apache.spark.sql.types.{StringType, StructField, StructType}\n",
    "import org.apache.spark.sql.Row\n",
    "import scala.collection.JavaConversions._\n",
    "val schema = StructType( Array(\n",
    "                 StructField(\"language\", StringType,true),\n",
    "                 StructField(\"users\", StringType,true)\n",
    "             ))\n",
    "//From Data (USING createDataFrame and Adding schema using StructType)\n",
    "val rowData= Seq(Row(\"Java\", \"20000\"), \n",
    "               Row(\"Python\", \"100000\"), \n",
    "               Row(\"Scala\", \"3000\"))\n",
    "var dfFromData3 = spark.createDataFrame(rowData,schema)"
   ]
  },
  {
   "cell_type": "code",
   "execution_count": 5,
   "id": "bbe3c18b-5be4-48e9-9abc-745649723803",
   "metadata": {},
   "outputs": [
    {
     "name": "stdout",
     "output_type": "stream",
     "text": [
      "22/10/16 16:37:35 INFO CodeGenerator: Code generated in 161.80172 ms\n",
      "22/10/16 16:37:35 INFO CodeGenerator: Code generated in 11.760184 ms\n",
      "+--------+------+\n",
      "|language| users|\n",
      "+--------+------+\n",
      "|    Java| 20000|\n",
      "|  Python|100000|\n",
      "|   Scala|  3000|\n",
      "+--------+------+\n",
      "\n"
     ]
    }
   ],
   "source": [
    "dfFromData3.show()"
   ]
  },
  {
   "cell_type": "code",
   "execution_count": 3,
   "id": "78859580-8d42-4998-863b-3f34708a537a",
   "metadata": {},
   "outputs": [
    {
     "data": {
      "text/plain": [
       "\u001b[32mimport \u001b[39m\u001b[36m$ivy.$                                      \n",
       "\u001b[39m\n",
       "\u001b[32mimport \u001b[39m\u001b[36mplotly._, plotly.element._, plotly.layout._, plotly.Almond._\n",
       "\n",
       "// if you want to have the plots available without an internet connection:\n",
       "// init(offline=true)\n",
       "\n",
       "// restrict the output height to avoid scrolling in output cells\n",
       "\u001b[39m"
      ]
     },
     "execution_count": 3,
     "metadata": {},
     "output_type": "execute_result"
    }
   ],
   "source": [
    "// https://github.com/almond-sh/almond/blob/main/examples/plotly-scala.ipynb\n",
    "import $ivy.`org.plotly-scala::plotly-almond:0.8.3`\n",
    "import plotly._, plotly.element._, plotly.layout._, plotly.Almond._\n",
    "\n",
    "// if you want to have the plots available without an internet connection:\n",
    "// init(offline=true)\n",
    "\n",
    "// restrict the output height to avoid scrolling in output cells\n",
    "repl.pprinter() = repl.pprinter().copy(defaultHeight = 3)"
   ]
  },
  {
   "cell_type": "code",
   "execution_count": 2,
   "id": "14d20ab7-7667-4116-bfc1-e26dcaf0a2d5",
   "metadata": {},
   "outputs": [
    {
     "data": {
      "text/html": [
       "\n",
       "      <script type=\"text/javascript\">\n",
       "        require.config({\n",
       "  paths: {\n",
       "    d3: 'https://cdnjs.cloudflare.com/ajax/libs/d3/3.5.17/d3.min',\n",
       "    plotly: 'https://cdn.plot.ly/plotly-1.54.1.min',\n",
       "    jquery: 'https://code.jquery.com/jquery-3.3.1.min'\n",
       "  },\n",
       "\n",
       "  shim: {\n",
       "    plotly: {\n",
       "      deps: ['d3', 'jquery'],\n",
       "      exports: 'plotly'\n",
       "    }\n",
       "  }\n",
       "});\n",
       "        \n",
       "\n",
       "        require(['plotly'], function(Plotly) {\n",
       "          window.Plotly = Plotly;\n",
       "        });\n",
       "      </script>\n",
       "    "
      ]
     },
     "metadata": {},
     "output_type": "display_data"
    },
    {
     "data": {
      "application/vnd.plotly.v1+json": {
       "config": {},
       "data": [
        {
         "type": "scatter",
         "x": [
          1,
          2,
          3,
          4
         ],
         "y": [
          10,
          15,
          13,
          17
         ]
        },
        {
         "type": "scatter",
         "x": [
          1,
          2,
          3,
          4
         ],
         "y": [
          16,
          5,
          11,
          9
         ]
        }
       ],
       "layout": {
        "autosize": true,
        "xaxis": {
         "autorange": true,
         "range": [
          0.8224457799843219,
          4.177554220015678
         ],
         "type": "linear"
        },
        "yaxis": {
         "autorange": true,
         "range": [
          4.009708737864078,
          17.990291262135923
         ],
         "type": "linear"
        }
       }
      },
      "image/png": "[encoded data removed]",
      "text/html": [
       "<div class=\"chart\" id=\"plot-2dd6ed18-fb4a-45ba-893c-0165cc10224f\"></div>\n",
       "<script>require(['plotly'], function(Plotly) {\n",
       "  (function () {\n",
       "  var data0 = {\"x\":[1.0,2.0,3.0,4.0],\"y\":[10.0,15.0,13.0,17.0],\"type\":\"scatter\"};\n",
       "  var data1 = {\"x\":[1.0,2.0,3.0,4.0],\"y\":[16.0,5.0,11.0,9.0],\"type\":\"scatter\"};\n",
       "\n",
       "  var data = [data0, data1];\n",
       "  var layout = {};\n",
       " var config = {};\n",
       "\n",
       "  Plotly.plot('plot-2dd6ed18-fb4a-45ba-893c-0165cc10224f', data, layout, config);\n",
       "})();\n",
       "});\n",
       "      </script>\n",
       "           "
      ]
     },
     "metadata": {},
     "output_type": "display_data"
    },
    {
     "data": {
      "text/plain": [
       "\u001b[36mtrace1\u001b[39m: \u001b[32mScatter\u001b[39m = \u001b[33mScatter\u001b[39m(\n",
       "  \u001b[33mSome\u001b[39m(\u001b[33mDoubles\u001b[39m(\u001b[33mList\u001b[39m(\u001b[32m1.0\u001b[39m, \u001b[32m2.0\u001b[39m, \u001b[32m3.0\u001b[39m, \u001b[32m4.0\u001b[39m))),\n",
       "...\n",
       "\u001b[36mtrace2\u001b[39m: \u001b[32mScatter\u001b[39m = \u001b[33mScatter\u001b[39m(\n",
       "  \u001b[33mSome\u001b[39m(\u001b[33mDoubles\u001b[39m(\u001b[33mList\u001b[39m(\u001b[32m1.0\u001b[39m, \u001b[32m2.0\u001b[39m, \u001b[32m3.0\u001b[39m, \u001b[32m4.0\u001b[39m))),\n",
       "...\n",
       "\u001b[36mdata\u001b[39m: \u001b[32mSeq\u001b[39m[\u001b[32mScatter\u001b[39m] = \u001b[33mList\u001b[39m(\n",
       "  \u001b[33mScatter\u001b[39m(\n",
       "...\n",
       "\u001b[36mres1_3\u001b[39m: \u001b[32mString\u001b[39m = \u001b[32m\"plot-2dd6ed18-fb4a-45ba-893c-0165cc10224f\"\u001b[39m"
      ]
     },
     "execution_count": 2,
     "metadata": {},
     "output_type": "execute_result"
    }
   ],
   "source": [
    "val trace1 = Scatter(\n",
    "  Seq(1, 2, 3, 4),\n",
    "  Seq(10, 15, 13, 17)\n",
    ")\n",
    "\n",
    "val trace2 = Scatter(\n",
    "  Seq(1, 2, 3, 4),\n",
    "  Seq(16, 5, 11, 9)\n",
    ")\n",
    "\n",
    "val data = Seq(trace1, trace2)\n",
    "\n",
    "plot(data)"
   ]
  }
 ],
 "metadata": {
  "kernelspec": {
   "display_name": "Scala",
   "language": "scala",
   "name": "scala"
  },
  "language_info": {
   "codemirror_mode": "text/x-scala",
   "file_extension": ".sc",
   "mimetype": "text/x-scala",
   "name": "scala",
   "nbconvert_exporter": "script",
   "version": "2.12.16"
  }
 },
 "nbformat": 4,
 "nbformat_minor": 5
}
